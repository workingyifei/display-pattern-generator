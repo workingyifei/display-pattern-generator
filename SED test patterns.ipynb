{
 "cells": [
  {
   "cell_type": "markdown",
   "metadata": {},
   "source": [
    "# SED Test Patterns"
   ]
  },
  {
   "cell_type": "markdown",
   "metadata": {},
   "source": [
    "## Import and support function"
   ]
  },
  {
   "cell_type": "code",
   "execution_count": 1,
   "metadata": {},
   "outputs": [],
   "source": [
    "import pandas as pd\n",
    "import numpy as np\n",
    "import matplotlib.pyplot as plt\n",
    "import cv2\n",
    "import os"
   ]
  },
  {
   "cell_type": "code",
   "execution_count": 2,
   "metadata": {},
   "outputs": [],
   "source": [
    "os.chdir('/home/yifei/Documents/display-pattern-generator/patterns/')"
   ]
  },
  {
   "cell_type": "code",
   "execution_count": 3,
   "metadata": {},
   "outputs": [],
   "source": [
    "def create_blank(width, height, rgb_color=(0,0,0)):\n",
    "    image = np.zeros((height, width, 3), np.uint8)\n",
    "    \n",
    "#     color = cv2.cvtColor(image, cv2.COLOR_RGB2GRAY)   \n",
    "    bgr_color = tuple(reversed(rgb_color))\n",
    "    image[:] = bgr_color\n",
    "\n",
    "    return image\n"
   ]
  },
  {
   "cell_type": "markdown",
   "metadata": {},
   "source": [
    "## Color Definition\n",
    "\n",
    "*Note: matplotlib writes images in rgb, opencv writes images in bgr."
   ]
  },
  {
   "cell_type": "code",
   "execution_count": 4,
   "metadata": {},
   "outputs": [],
   "source": [
    "# in RGB sequence\n",
    "\n",
    "height, width = 720, 3840\n",
    "red = (255, 0, 0)\n",
    "green = (0, 255, 0)\n",
    "blue = (0, 0, 255)\n",
    "pink = (255, 0, 255)\n",
    "white = (255, 255, 255)\n",
    "black = (0, 0, 0)\n",
    "gray16 = (15, 15, 15)\n",
    "gray32 = (31, 31, 31)\n",
    "gray64 = (63, 63, 63)\n",
    "gray128 = (127, 127, 127)\n",
    "yellow = (255, 255, 0)\n",
    "Magnenta = (255, 0, 255)\n",
    "cyan = (0, 255, 255)"
   ]
  },
  {
   "cell_type": "markdown",
   "metadata": {},
   "source": [
    "## Test Patter Creation"
   ]
  },
  {
   "cell_type": "code",
   "execution_count": 5,
   "metadata": {},
   "outputs": [
    {
     "data": {
      "text/plain": [
       "<matplotlib.image.AxesImage at 0x7efda9006d68>"
      ]
     },
     "execution_count": 5,
     "metadata": {},
     "output_type": "execute_result"
    },
    {
     "data": {
      "image/png": "[encoded data removed]",
      "text/plain": [
       "<Figure size 432x288 with 1 Axes>"
      ]
     },
     "metadata": {},
     "output_type": "display_data"
    }
   ],
   "source": [
    "solid_red = create_blank(width, height, rgb_color=red)\n",
    "cv2.imwrite(\"solid_red.bmp\", solid_red)\n",
    "plt.imshow(solid_red)\n"
   ]
  },
  {
   "cell_type": "code",
   "execution_count": 6,
   "metadata": {},
   "outputs": [
    {
     "data": {
      "text/plain": [
       "<matplotlib.image.AxesImage at 0x7efda83b1320>"
      ]
     },
     "execution_count": 6,
     "metadata": {},
     "output_type": "execute_result"
    },
    {
     "data": {
      "image/png": "[encoded data removed]",
      "text/plain": [
       "<Figure size 432x288 with 1 Axes>"
      ]
     },
     "metadata": {},
     "output_type": "display_data"
    }
   ],
   "source": [
    "solid_green = create_blank(width, height, rgb_color=green)\n",
    "cv2.imwrite(\"solid_green.bmp\", solid_green)\n",
    "plt.imshow(solid_green)\n"
   ]
  },
  {
   "cell_type": "code",
   "execution_count": 7,
   "metadata": {},
   "outputs": [
    {
     "data": {
      "text/plain": [
       "<matplotlib.image.AxesImage at 0x7efda830b7b8>"
      ]
     },
     "execution_count": 7,
     "metadata": {},
     "output_type": "execute_result"
    },
    {
     "data": {
      "image/png": "[encoded data removed]",
      "text/plain": [
       "<Figure size 432x288 with 1 Axes>"
      ]
     },
     "metadata": {},
     "output_type": "display_data"
    }
   ],
   "source": [
    "solid_blue = create_blank(width, height, rgb_color=blue)\n",
    "cv2.imwrite(\"solid_blue.bmp\", solid_blue)\n",
    "plt.imshow(solid_blue)"
   ]
  },
  {
   "cell_type": "code",
   "execution_count": 8,
   "metadata": {},
   "outputs": [
    {
     "data": {
      "text/plain": [
       "<matplotlib.image.AxesImage at 0x7efda82e35f8>"
      ]
     },
     "execution_count": 8,
     "metadata": {},
     "output_type": "execute_result"
    },
    {
     "data": {
      "image/png": "[encoded data removed]",
      "text/plain": [
       "<Figure size 432x288 with 1 Axes>"
      ]
     },
     "metadata": {},
     "output_type": "display_data"
    }
   ],
   "source": [
    "solid_black = create_blank(width, height, rgb_color=black)\n",
    "cv2.imwrite(\"solid_black.bmp\", solid_black)\n",
    "plt.imshow(solid_black)\n"
   ]
  },
  {
   "cell_type": "code",
   "execution_count": 9,
   "metadata": {},
   "outputs": [
    {
     "data": {
      "text/plain": [
       "<matplotlib.image.AxesImage at 0x7efda823b1d0>"
      ]
     },
     "execution_count": 9,
     "metadata": {},
     "output_type": "execute_result"
    },
    {
     "data": {
      "image/png": "[encoded data removed]",
      "text/plain": [
       "<Figure size 432x288 with 1 Axes>"
      ]
     },
     "metadata": {},
     "output_type": "display_data"
    }
   ],
   "source": [
    "solid_white = create_blank(width, height, rgb_color=white)\n",
    "cv2.imwrite(\"solid_white.bmp\", solid_white)\n",
    "plt.imshow(solid_white)\n"
   ]
  },
  {
   "cell_type": "code",
   "execution_count": 10,
   "metadata": {},
   "outputs": [
    {
     "data": {
      "text/plain": [
       "<matplotlib.image.AxesImage at 0x7efda820bd68>"
      ]
     },
     "execution_count": 10,
     "metadata": {},
     "output_type": "execute_result"
    },
    {
     "data": {
      "image/png": "[encoded data removed]",
      "text/plain": [
       "<Figure size 432x288 with 1 Axes>"
      ]
     },
     "metadata": {},
     "output_type": "display_data"
    }
   ],
   "source": [
    "img_gray16 = create_blank(width, height, rgb_color=gray16)\n",
    "cv2.imwrite(\"img_gray16.bmp\", img_gray16)\n",
    "plt.imshow(img_gray16)"
   ]
  },
  {
   "cell_type": "code",
   "execution_count": 11,
   "metadata": {
    "scrolled": true
   },
   "outputs": [
    {
     "data": {
      "text/plain": [
       "<matplotlib.image.AxesImage at 0x7efda81e2940>"
      ]
     },
     "execution_count": 11,
     "metadata": {},
     "output_type": "execute_result"
    },
    {
     "data": {
      "image/png": "[encoded data removed]",
      "text/plain": [
       "<Figure size 432x288 with 1 Axes>"
      ]
     },
     "metadata": {},
     "output_type": "display_data"
    }
   ],
   "source": [
    "img_gray32 = create_blank(width, height, rgb_color=gray32)\n",
    "cv2.imwrite(\"img_gray32.bmp\", img_gray32)\n",
    "plt.imshow(img_gray32)"
   ]
  },
  {
   "cell_type": "code",
   "execution_count": 12,
   "metadata": {},
   "outputs": [
    {
     "data": {
      "text/plain": [
       "<matplotlib.image.AxesImage at 0x7efda813d550>"
      ]
     },
     "execution_count": 12,
     "metadata": {},
     "output_type": "execute_result"
    },
    {
     "data": {
      "image/png": "[encoded data removed]",
      "text/plain": [
       "<Figure size 432x288 with 1 Axes>"
      ]
     },
     "metadata": {},
     "output_type": "display_data"
    }
   ],
   "source": [
    "img_gray64 = create_blank(width, height, rgb_color=gray64)\n",
    "cv2.imwrite(\"img_gray64.bmp\", img_gray64)\n",
    "plt.imshow(img_gray64)\n"
   ]
  },
  {
   "cell_type": "code",
   "execution_count": 13,
   "metadata": {},
   "outputs": [
    {
     "data": {
      "text/plain": [
       "True"
      ]
     },
     "execution_count": 13,
     "metadata": {},
     "output_type": "execute_result"
    },
    {
     "data": {
      "image/png": "[encoded data removed]",
      "text/plain": [
       "<Figure size 432x288 with 1 Axes>"
      ]
     },
     "metadata": {},
     "output_type": "display_data"
    }
   ],
   "source": [
    "# Cross-talk\n",
    "\n",
    "box_width = 959\n",
    "box_height = 239\n",
    "\n",
    "pts = np.array([[(width-box_width)/2, (height-box_height)/2], [(width-box_width)/2+box_width, (height-box_height)/2], [(width-box_width)/2+box_width, (height-box_height)/2+box_height], [(width-box_width)/2, (height-box_height)/2+box_height]])\n",
    "\n",
    "img_crosstalk = create_blank(width, height, rgb_color=white)\n",
    "img_crosstalk = cv2.fillPoly(img_crosstalk, np.int32([pts]), gray32)\n",
    "plt.imshow(img_crosstalk)\n",
    "cv2.imwrite(\"crosstalk.bmp\", img_crosstalk)"
   ]
  },
  {
   "cell_type": "code",
   "execution_count": 14,
   "metadata": {
    "scrolled": true
   },
   "outputs": [
    {
     "data": {
      "text/plain": [
       "True"
      ]
     },
     "execution_count": 14,
     "metadata": {},
     "output_type": "execute_result"
    },
    {
     "data": {
      "image/png": "[encoded data removed]",
      "text/plain": [
       "<Figure size 432x288 with 1 Axes>"
      ]
     },
     "metadata": {},
     "output_type": "display_data"
    }
   ],
   "source": [
    "# Cross-talk Black\n",
    "\n",
    "box_width = 959\n",
    "box_height = 239\n",
    "\n",
    "pts = np.array([[(width-box_width)/2, (height-box_height)/2], [(width-box_width)/2+box_width, (height-box_height)/2], [(width-box_width)/2+box_width, (height-box_height)/2+box_height], [(width-box_width)/2, (height-box_height)/2+box_height]])\n",
    "\n",
    "img_crosstalk = create_blank(width, height, rgb_color=black)\n",
    "img_crosstalk = cv2.fillPoly(img_crosstalk, np.int32([pts]), gray32)\n",
    "plt.imshow(img_crosstalk)\n",
    "cv2.imwrite(\"crosstalk_black.bmp\", img_crosstalk)"
   ]
  },
  {
   "cell_type": "code",
   "execution_count": 15,
   "metadata": {},
   "outputs": [
    {
     "data": {
      "text/plain": [
       "True"
      ]
     },
     "execution_count": 15,
     "metadata": {},
     "output_type": "execute_result"
    },
    {
     "data": {
      "image/png": "[encoded data removed]",
      "text/plain": [
       "<Figure size 432x288 with 1 Axes>"
      ]
     },
     "metadata": {},
     "output_type": "display_data"
    }
   ],
   "source": [
    "# Cross-talk Yellow\n",
    "\n",
    "box_width = 959\n",
    "box_height = 239\n",
    "\n",
    "\n",
    "pts = np.array([[(width-box_width)/2, (height-box_height)/2], [(width-box_width)/2+box_width, (height-box_height)/2], [(width-box_width)/2+box_width, (height-box_height)/2+box_height], [(width-box_width)/2, (height-box_height)/2+box_height]])\n",
    "\n",
    "img_crosstalk = create_blank(width, height, rgb_color=yellow)\n",
    "img_crosstalk = cv2.fillPoly(img_crosstalk, np.int32([pts]), gray32)\n",
    "plt.imshow(img_crosstalk)\n",
    "cv2.imwrite(\"crosstalk_yellow.bmp\", img_crosstalk)"
   ]
  },
  {
   "cell_type": "code",
   "execution_count": 16,
   "metadata": {},
   "outputs": [
    {
     "data": {
      "text/plain": [
       "True"
      ]
     },
     "execution_count": 16,
     "metadata": {},
     "output_type": "execute_result"
    },
    {
     "data": {
      "image/png": "[encoded data removed]",
      "text/plain": [
       "<Figure size 432x288 with 1 Axes>"
      ]
     },
     "metadata": {},
     "output_type": "display_data"
    }
   ],
   "source": [
    "# Cross-talk Magnenta\n",
    "\n",
    "box_width = 959\n",
    "box_height = 239\n",
    "\n",
    "\n",
    "pts = np.array([[(width-box_width)/2, (height-box_height)/2], [(width-box_width)/2+box_width, (height-box_height)/2], [(width-box_width)/2+box_width, (height-box_height)/2+box_height], [(width-box_width)/2, (height-box_height)/2+box_height]])\n",
    "\n",
    "img_crosstalk = create_blank(width, height, rgb_color=Magnenta)\n",
    "img_crosstalk = cv2.fillPoly(img_crosstalk, np.int32([pts]), gray32)\n",
    "plt.imshow(img_crosstalk)\n",
    "cv2.imwrite(\"crosstalk_Magnenta.bmp\", img_crosstalk)"
   ]
  },
  {
   "cell_type": "code",
   "execution_count": 17,
   "metadata": {},
   "outputs": [
    {
     "data": {
      "text/plain": [
       "True"
      ]
     },
     "execution_count": 17,
     "metadata": {},
     "output_type": "execute_result"
    },
    {
     "data": {
      "image/png": "[encoded data removed]",
      "text/plain": [
       "<Figure size 432x288 with 1 Axes>"
      ]
     },
     "metadata": {},
     "output_type": "display_data"
    }
   ],
   "source": [
    "# Cross-talk Cyan\n",
    "\n",
    "box_width = 959\n",
    "box_height = 239\n",
    "\n",
    "\n",
    "pts = np.array([[(width-box_width)/2, (height-box_height)/2], [(width-box_width)/2+box_width, (height-box_height)/2], [(width-box_width)/2+box_width, (height-box_height)/2+box_height], [(width-box_width)/2, (height-box_height)/2+box_height]])\n",
    "\n",
    "img_crosstalk = create_blank(width, height, rgb_color=cyan)\n",
    "img_crosstalk = cv2.fillPoly(img_crosstalk, np.int32([pts]), gray32)\n",
    "plt.imshow(img_crosstalk)\n",
    "cv2.imwrite(\"crosstalk_cyan.bmp\", img_crosstalk)"
   ]
  },
  {
   "cell_type": "code",
   "execution_count": 18,
   "metadata": {},
   "outputs": [
    {
     "data": {
      "text/plain": [
       "True"
      ]
     },
     "execution_count": 18,
     "metadata": {},
     "output_type": "execute_result"
    },
    {
     "data": {
      "image/png": "[encoded data removed]",
      "text/plain": [
       "<Figure size 432x288 with 1 Axes>"
      ]
     },
     "metadata": {},
     "output_type": "display_data"
    }
   ],
   "source": [
    "# Cross-talk Red\n",
    "\n",
    "box_width = 959\n",
    "box_height = 239\n",
    "\n",
    "\n",
    "pts = np.array([[(width-box_width)/2, (height-box_height)/2], [(width-box_width)/2+box_width, (height-box_height)/2], [(width-box_width)/2+box_width, (height-box_height)/2+box_height], [(width-box_width)/2, (height-box_height)/2+box_height]])\n",
    "\n",
    "img_crosstalk = create_blank(width, height, rgb_color=red)\n",
    "img_crosstalk = cv2.fillPoly(img_crosstalk, np.int32([pts]), gray32)\n",
    "plt.imshow(img_crosstalk)\n",
    "cv2.imwrite(\"crosstalk_red.bmp\", img_crosstalk)"
   ]
  },
  {
   "cell_type": "code",
   "execution_count": 19,
   "metadata": {},
   "outputs": [
    {
     "data": {
      "text/plain": [
       "True"
      ]
     },
     "execution_count": 19,
     "metadata": {},
     "output_type": "execute_result"
    },
    {
     "data": {
      "image/png": "[encoded data removed]",
      "text/plain": [
       "<Figure size 432x288 with 1 Axes>"
      ]
     },
     "metadata": {},
     "output_type": "display_data"
    }
   ],
   "source": [
    "# Cross-talk Green\n",
    "\n",
    "box_width = 959\n",
    "box_height = 239\n",
    "\n",
    "\n",
    "pts = np.array([[(width-box_width)/2, (height-box_height)/2], [(width-box_width)/2+box_width, (height-box_height)/2], [(width-box_width)/2+box_width, (height-box_height)/2+box_height], [(width-box_width)/2, (height-box_height)/2+box_height]])\n",
    "\n",
    "img_crosstalk = create_blank(width, height, rgb_color=green)\n",
    "img_crosstalk = cv2.fillPoly(img_crosstalk, np.int32([pts]), gray32)\n",
    "plt.imshow(img_crosstalk)\n",
    "cv2.imwrite(\"crosstalk_green.bmp\", img_crosstalk)"
   ]
  },
  {
   "cell_type": "code",
   "execution_count": 20,
   "metadata": {},
   "outputs": [
    {
     "data": {
      "text/plain": [
       "True"
      ]
     },
     "execution_count": 20,
     "metadata": {},
     "output_type": "execute_result"
    },
    {
     "data": {
      "image/png": "[encoded data removed]",
      "text/plain": [
       "<Figure size 432x288 with 1 Axes>"
      ]
     },
     "metadata": {},
     "output_type": "display_data"
    }
   ],
   "source": [
    "# Cross-talk Blue\n",
    "\n",
    "box_width = 959\n",
    "box_height = 239\n",
    "\n",
    "\n",
    "pts = np.array([[(width-box_width)/2, (height-box_height)/2], [(width-box_width)/2+box_width, (height-box_height)/2], [(width-box_width)/2+box_width, (height-box_height)/2+box_height], [(width-box_width)/2, (height-box_height)/2+box_height]])\n",
    "\n",
    "img_crosstalk = create_blank(width, height, rgb_color=blue)\n",
    "img_crosstalk = cv2.fillPoly(img_crosstalk, np.int32([pts]), gray32)\n",
    "plt.imshow(img_crosstalk)\n",
    "cv2.imwrite(\"crosstalk_blue.bmp\", img_crosstalk)"
   ]
  },
  {
   "cell_type": "code",
   "execution_count": 21,
   "metadata": {},
   "outputs": [
    {
     "data": {
      "text/plain": [
       "True"
      ]
     },
     "execution_count": 21,
     "metadata": {},
     "output_type": "execute_result"
    },
    {
     "data": {
      "image/png": "[encoded data removed]",
      "text/plain": [
       "<Figure size 432x288 with 1 Axes>"
      ]
     },
     "metadata": {},
     "output_type": "display_data"
    }
   ],
   "source": [
    "# Cross-talk A2 Black\n",
    "\n",
    "background = [63, 63, 63]\n",
    "box_width = 959\n",
    "box_height = 239\n",
    "\n",
    "pts1 = np.array([[0, (height-box_height)/2], [(width-box_width)/2, (height-box_height)/2], [(width-box_width)/2, (height-box_height)/2+box_height], [0, (height-box_height)/2+box_height]])\n",
    "pts2 = np.array([[(width-box_width)/2+box_width, (height-box_height)/2], [width, (height-box_height)/2], [width, (height-box_height)/2+box_height], [(width-box_width)/2+box_width, (height-box_height)/2+box_height]])\n",
    "\n",
    "img_crosstalk = create_blank(width, height, rgb_color=background)\n",
    "img_crosstalk = cv2.fillPoly(img_crosstalk, np.int32([pts1]), black)\n",
    "img_crosstalk = cv2.fillPoly(img_crosstalk, np.int32([pts2]), black)\n",
    "plt.imshow(img_crosstalk)\n",
    "cv2.imwrite(\"A2black.bmp\", img_crosstalk)"
   ]
  },
  {
   "cell_type": "code",
   "execution_count": 22,
   "metadata": {},
   "outputs": [
    {
     "data": {
      "text/plain": [
       "True"
      ]
     },
     "execution_count": 22,
     "metadata": {},
     "output_type": "execute_result"
    },
    {
     "data": {
      "image/png": "[encoded data removed]",
      "text/plain": [
       "<Figure size 432x288 with 1 Axes>"
      ]
     },
     "metadata": {},
     "output_type": "display_data"
    }
   ],
   "source": [
    "# Cross-talk A3 White\n",
    "\n",
    "background = [63, 63, 63]\n",
    "box_width = 959\n",
    "box_height = 239\n",
    "\n",
    "pts1 = np.array([[0, (height-box_height)/2], [(width-box_width)/2, (height-box_height)/2], [(width-box_width)/2, (height-box_height)/2+box_height], [0, (height-box_height)/2+box_height]])\n",
    "pts2 = np.array([[(width-box_width)/2+box_width, (height-box_height)/2], [width, (height-box_height)/2], [width, (height-box_height)/2+box_height], [(width-box_width)/2+box_width, (height-box_height)/2+box_height]])\n",
    "\n",
    "img_crosstalk = create_blank(width, height, rgb_color=background)\n",
    "img_crosstalk = cv2.fillPoly(img_crosstalk, np.int32([pts1]), white)\n",
    "img_crosstalk = cv2.fillPoly(img_crosstalk, np.int32([pts2]), white)\n",
    "plt.imshow(img_crosstalk)\n",
    "cv2.imwrite(\"A3white.bmp\", img_crosstalk)"
   ]
  },
  {
   "cell_type": "code",
   "execution_count": 23,
   "metadata": {},
   "outputs": [
    {
     "data": {
      "text/plain": [
       "True"
      ]
     },
     "execution_count": 23,
     "metadata": {},
     "output_type": "execute_result"
    },
    {
     "data": {
      "image/png": "[encoded data removed]",
      "text/plain": [
       "<Figure size 432x288 with 1 Axes>"
      ]
     },
     "metadata": {},
     "output_type": "display_data"
    }
   ],
   "source": [
    "# Cross-talk A4 Red\n",
    "\n",
    "background = [63, 63, 63]\n",
    "box_width = 959\n",
    "box_height = 239\n",
    "\n",
    "pts1 = np.array([[0, (height-box_height)/2], [(width-box_width)/2, (height-box_height)/2], [(width-box_width)/2, (height-box_height)/2+box_height], [0, (height-box_height)/2+box_height]])\n",
    "pts2 = np.array([[(width-box_width)/2+box_width, (height-box_height)/2], [width, (height-box_height)/2], [width, (height-box_height)/2+box_height], [(width-box_width)/2+box_width, (height-box_height)/2+box_height]])\n",
    "\n",
    "img_crosstalk = create_blank(width, height, rgb_color=background)\n",
    "img_crosstalk = cv2.fillPoly(img_crosstalk, np.int32([pts1]), blue)\n",
    "img_crosstalk = cv2.fillPoly(img_crosstalk, np.int32([pts2]), blue)\n",
    "plt.imshow(img_crosstalk)\n",
    "cv2.imwrite(\"A4red.bmp\", img_crosstalk)"
   ]
  },
  {
   "cell_type": "code",
   "execution_count": 24,
   "metadata": {},
   "outputs": [
    {
     "data": {
      "text/plain": [
       "True"
      ]
     },
     "execution_count": 24,
     "metadata": {},
     "output_type": "execute_result"
    },
    {
     "data": {
      "image/png": "[encoded data removed]",
      "text/plain": [
       "<Figure size 432x288 with 1 Axes>"
      ]
     },
     "metadata": {},
     "output_type": "display_data"
    }
   ],
   "source": [
    "# Cross-talk A5 Green\n",
    "\n",
    "background = [63, 63, 63]\n",
    "box_width = 959\n",
    "box_height = 239\n",
    "\n",
    "pts1 = np.array([[0, (height-box_height)/2], [(width-box_width)/2, (height-box_height)/2], [(width-box_width)/2, (height-box_height)/2+box_height], [0, (height-box_height)/2+box_height]])\n",
    "pts2 = np.array([[(width-box_width)/2+box_width, (height-box_height)/2], [width, (height-box_height)/2], [width, (height-box_height)/2+box_height], [(width-box_width)/2+box_width, (height-box_height)/2+box_height]])\n",
    "\n",
    "img_crosstalk = create_blank(width, height, rgb_color=background)\n",
    "img_crosstalk = cv2.fillPoly(img_crosstalk, np.int32([pts1]), green)\n",
    "img_crosstalk = cv2.fillPoly(img_crosstalk, np.int32([pts2]), green)\n",
    "plt.imshow(img_crosstalk)\n",
    "cv2.imwrite(\"A5green.bmp\", img_crosstalk)"
   ]
  },
  {
   "cell_type": "code",
   "execution_count": 25,
   "metadata": {},
   "outputs": [
    {
     "data": {
      "text/plain": [
       "True"
      ]
     },
     "execution_count": 25,
     "metadata": {},
     "output_type": "execute_result"
    },
    {
     "data": {
      "image/png": "[encoded data removed]",
      "text/plain": [
       "<Figure size 432x288 with 1 Axes>"
      ]
     },
     "metadata": {},
     "output_type": "display_data"
    }
   ],
   "source": [
    "# Cross-talk A6 blue\n",
    "\n",
    "background = [63, 63, 63]\n",
    "box_width = 959\n",
    "box_height = 239\n",
    "\n",
    "pts1 = np.array([[0, (height-box_height)/2], [(width-box_width)/2, (height-box_height)/2], [(width-box_width)/2, (height-box_height)/2+box_height], [0, (height-box_height)/2+box_height]])\n",
    "pts2 = np.array([[(width-box_width)/2+box_width, (height-box_height)/2], [width, (height-box_height)/2], [width, (height-box_height)/2+box_height], [(width-box_width)/2+box_width, (height-box_height)/2+box_height]])\n",
    "\n",
    "img_crosstalk = create_blank(width, height, rgb_color=background)\n",
    "img_crosstalk = cv2.fillPoly(img_crosstalk, np.int32([pts1]), red)\n",
    "img_crosstalk = cv2.fillPoly(img_crosstalk, np.int32([pts2]), red)\n",
    "plt.imshow(img_crosstalk)\n",
    "cv2.imwrite(\"A6blue.bmp\", img_crosstalk)"
   ]
  },
  {
   "cell_type": "code",
   "execution_count": 26,
   "metadata": {},
   "outputs": [
    {
     "data": {
      "text/plain": [
       "True"
      ]
     },
     "execution_count": 26,
     "metadata": {},
     "output_type": "execute_result"
    },
    {
     "data": {
      "image/png": "[encoded data removed]",
      "text/plain": [
       "<Figure size 432x288 with 1 Axes>"
      ]
     },
     "metadata": {},
     "output_type": "display_data"
    }
   ],
   "source": [
    "# Grayscale\n",
    "\n",
    "box_width = int(width/256)\n",
    "img_grayscale = create_blank(width, height, rgb_color=white)\n",
    "\n",
    "for i in range(0, 256):\n",
    "    color = [255-i, 255-i, 255-i]\n",
    "    pts = np.array([[(i+0)*box_width, 0], [(i+1)*box_width, 0], [(i+1)*box_width, height], [(i+0)*box_width, height]])\n",
    "    img_flicker = cv2.fillPoly(img_grayscale, np.int32([pts]), color)\n",
    "\n",
    "plt.imshow(img_grayscale)\n",
    "cv2.imwrite(\"grayscale.bmp\", img_grayscale)\n"
   ]
  },
  {
   "cell_type": "code",
   "execution_count": 27,
   "metadata": {},
   "outputs": [
    {
     "data": {
      "text/plain": [
       "True"
      ]
     },
     "execution_count": 27,
     "metadata": {},
     "output_type": "execute_result"
    },
    {
     "data": {
      "image/png": "[encoded data removed]",
      "text/plain": [
       "<Figure size 432x288 with 1 Axes>"
      ]
     },
     "metadata": {},
     "output_type": "display_data"
    }
   ],
   "source": [
    "# Grayscale reversed\n",
    "\n",
    "box_width = int(width/256)\n",
    "img_grayscale_reversed = create_blank(width, height, rgb_color=white)\n",
    "\n",
    "for i in range(0, 256):\n",
    "    color = [i, i, i]\n",
    "    pts = np.array([[(i+0)*box_width, 0], [(i+1)*box_width, 0], [(i+1)*box_width, height], [(i+0)*box_width, height]])\n",
    "    img_flicker = cv2.fillPoly(img_grayscale_reversed, np.int32([pts]), color)\n",
    "\n",
    "plt.imshow(img_grayscale_reversed)\n",
    "cv2.imwrite(\"grayscale_reversed.bmp\", img_grayscale_reversed)\n"
   ]
  },
  {
   "cell_type": "code",
   "execution_count": 28,
   "metadata": {
    "scrolled": true
   },
   "outputs": [
    {
     "data": {
      "image/png": "[encoded data removed]",
      "text/plain": [
       "<Figure size 432x288 with 1 Axes>"
      ]
     },
     "metadata": {},
     "output_type": "display_data"
    },
    {
     "data": {
      "image/png": "[encoded data removed]",
      "text/plain": [
       "<Figure size 432x288 with 1 Axes>"
      ]
     },
     "metadata": {},
     "output_type": "display_data"
    },
    {
     "data": {
      "text/plain": [
       "True"
      ]
     },
     "execution_count": 28,
     "metadata": {},
     "output_type": "execute_result"
    }
   ],
   "source": [
    "# Skip one dot\n",
    "\n",
    "\n",
    "stress = create_blank(width, height, rgb_color=white)\n",
    "plt.imshow(stress)\n",
    "plt.show()\n",
    "\n",
    "even_row_pixel_color = [[pink, green, pink],[green, pink, green]]\n",
    "odd_row_pixel_color = [[green, pink, green], [pink, green, pink]]\n",
    "\n",
    "for i in range(0, height):\n",
    "    for j in range(0, width, 3):\n",
    "        if i % 2 == 0: #even row\n",
    "            stress[i,j] = even_row_pixel_color[j%2][0]\n",
    "            stress[i, j+1] = even_row_pixel_color[j%2][1]\n",
    "            stress[i, j+2] = even_row_pixel_color[j%2][2]\n",
    "        else: # odd row\n",
    "            stress[i,j] = odd_row_pixel_color[j%2][0]\n",
    "            stress[i, j+1] = odd_row_pixel_color[j%2][1]\n",
    "            stress[i, j+2] = odd_row_pixel_color[j%2][2]\n",
    "\n",
    "        \n",
    "plt.imshow(stress)\n",
    "plt.show()\n",
    "cv2.imwrite(\"skip_one_dot.jpg\", stress)"
   ]
  },
  {
   "cell_type": "markdown",
   "metadata": {},
   "source": [
    "# Checker (chess) pattern"
   ]
  },
  {
   "cell_type": "code",
   "execution_count": 29,
   "metadata": {},
   "outputs": [
    {
     "data": {
      "image/png": "[encoded data removed]",
      "text/plain": [
       "<Figure size 432x288 with 1 Axes>"
      ]
     },
     "metadata": {},
     "output_type": "display_data"
    },
    {
     "data": {
      "text/plain": [
       "True"
      ]
     },
     "execution_count": 29,
     "metadata": {},
     "output_type": "execute_result"
    }
   ],
   "source": [
    "rows = 6\n",
    "cols = 32\n",
    "\n",
    "box_width = width/cols\n",
    "box_height = height/rows\n",
    "color = [white, black]\n",
    "color_reversed = [black, white]\n",
    "\n",
    "chess = create_blank(width, height, rgb_color=white)\n",
    "\n",
    "for i in range(rows):\n",
    "    for j in range(cols):\n",
    "        pts = np.array([[(j+0)*box_width, (i+0)*box_height], [(j+1)*box_width, (i+0)*box_height], [(j+1)*box_width, (i+1)*box_height], [(j+0)*box_width, (i+1)*box_height]])\n",
    "        if i%2 == 0:\n",
    "            chess = cv2.fillPoly(chess, np.int32([pts]), color[j%2])\n",
    "        else:\n",
    "            chess = cv2.fillPoly(chess, np.int32([pts]), color_reversed[j%2])\n",
    "\n",
    "plt.imshow(chess)\n",
    "plt.show()\n",
    "cv2.imwrite(\"6x32B.bmp\", chess)\n"
   ]
  },
  {
   "cell_type": "code",
   "execution_count": 30,
   "metadata": {},
   "outputs": [
    {
     "data": {
      "image/png": "[encoded data removed]",
      "text/plain": [
       "<Figure size 432x288 with 1 Axes>"
      ]
     },
     "metadata": {},
     "output_type": "display_data"
    },
    {
     "data": {
      "text/plain": [
       "True"
      ]
     },
     "execution_count": 30,
     "metadata": {},
     "output_type": "execute_result"
    }
   ],
   "source": [
    "rows = 6\n",
    "cols = 32\n",
    "\n",
    "box_width = width/cols\n",
    "box_height = height/rows\n",
    "color = [white, black]\n",
    "color_reversed = [black, white]\n",
    "\n",
    "chess = create_blank(width, height, rgb_color=white)\n",
    "\n",
    "for i in range(rows):\n",
    "    for j in range(cols):\n",
    "        pts = np.array([[(j+0)*box_width, (i+0)*box_height], [(j+1)*box_width, (i+0)*box_height], [(j+1)*box_width, (i+1)*box_height], [(j+0)*box_width, (i+1)*box_height]])\n",
    "        if i%2 == 0:\n",
    "            chess = cv2.fillPoly(chess, np.int32([pts]), color_reversed[j%2])\n",
    "        else:\n",
    "            chess = cv2.fillPoly(chess, np.int32([pts]), color[j%2])\n",
    "\n",
    "plt.imshow(chess)\n",
    "plt.show()\n",
    "cv2.imwrite(\"6X32A.bmp\", chess)\n"
   ]
  },
  {
   "cell_type": "code",
   "execution_count": 31,
   "metadata": {},
   "outputs": [
    {
     "data": {
      "image/png": "[encoded data removed]",
      "text/plain": [
       "<Figure size 432x288 with 1 Axes>"
      ]
     },
     "metadata": {},
     "output_type": "display_data"
    },
    {
     "data": {
      "text/plain": [
       "True"
      ]
     },
     "execution_count": 31,
     "metadata": {},
     "output_type": "execute_result"
    }
   ],
   "source": [
    "rows = 3\n",
    "cols = 32\n",
    "\n",
    "box_width = width/cols\n",
    "box_height = height/rows\n",
    "color = [white, black]\n",
    "color_reversed = [black, white]\n",
    "\n",
    "chess = create_blank(width, height, rgb_color=white)\n",
    "\n",
    "for i in range(rows):\n",
    "    for j in range(cols):\n",
    "        pts = np.array([[(j+0)*box_width, (i+0)*box_height], [(j+1)*box_width, (i+0)*box_height], [(j+1)*box_width, (i+1)*box_height], [(j+0)*box_width, (i+1)*box_height]])\n",
    "        if i%2 == 0:\n",
    "            chess = cv2.fillPoly(chess, np.int32([pts]), color[j%2])\n",
    "        else:\n",
    "            chess = cv2.fillPoly(chess, np.int32([pts]), color_reversed[j%2])\n",
    "\n",
    "plt.imshow(chess)\n",
    "plt.show()\n",
    "cv2.imwrite(\"3X32B.bmp\", chess)\n"
   ]
  },
  {
   "cell_type": "code",
   "execution_count": 32,
   "metadata": {},
   "outputs": [
    {
     "data": {
      "image/png": "[encoded data removed]",
      "text/plain": [
       "<Figure size 432x288 with 1 Axes>"
      ]
     },
     "metadata": {},
     "output_type": "display_data"
    },
    {
     "data": {
      "text/plain": [
       "True"
      ]
     },
     "execution_count": 32,
     "metadata": {},
     "output_type": "execute_result"
    }
   ],
   "source": [
    "rows = 3\n",
    "cols = 32\n",
    "\n",
    "box_width = width/cols\n",
    "box_height = height/rows\n",
    "color = [white, black]\n",
    "color_reversed = [black, white]\n",
    "\n",
    "chess = create_blank(width, height, rgb_color=white)\n",
    "\n",
    "for i in range(rows):\n",
    "    for j in range(cols):\n",
    "        pts = np.array([[(j+0)*box_width, (i+0)*box_height], [(j+1)*box_width, (i+0)*box_height], [(j+1)*box_width, (i+1)*box_height], [(j+0)*box_width, (i+1)*box_height]])\n",
    "        if i%2 == 0:\n",
    "            chess = cv2.fillPoly(chess, np.int32([pts]), color_reversed[j%2])\n",
    "        else:\n",
    "            chess = cv2.fillPoly(chess, np.int32([pts]), color[j%2])\n",
    "\n",
    "plt.imshow(chess)\n",
    "plt.show()\n",
    "cv2.imwrite(\"3X32A.bmp\", chess)\n"
   ]
  },
  {
   "cell_type": "code",
   "execution_count": 33,
   "metadata": {},
   "outputs": [
    {
     "data": {
      "image/png": "[encoded data removed]",
      "text/plain": [
       "<Figure size 432x288 with 1 Axes>"
      ]
     },
     "metadata": {},
     "output_type": "display_data"
    },
    {
     "data": {
      "text/plain": [
       "True"
      ]
     },
     "execution_count": 33,
     "metadata": {},
     "output_type": "execute_result"
    }
   ],
   "source": [
    "rows = 6\n",
    "cols = 16\n",
    "\n",
    "box_width = width/cols\n",
    "box_height = height/rows\n",
    "color = [white, black]\n",
    "color_reversed = [black, white]\n",
    "\n",
    "chess = create_blank(width, height, rgb_color=white)\n",
    "\n",
    "for i in range(rows):\n",
    "    for j in range(cols):\n",
    "        pts = np.array([[(j+0)*box_width, (i+0)*box_height], [(j+1)*box_width, (i+0)*box_height], [(j+1)*box_width, (i+1)*box_height], [(j+0)*box_width, (i+1)*box_height]])\n",
    "        if i%2 == 0:\n",
    "            chess = cv2.fillPoly(chess, np.int32([pts]), color[j%2])\n",
    "        else:\n",
    "            chess = cv2.fillPoly(chess, np.int32([pts]), color_reversed[j%2])\n",
    "\n",
    "plt.imshow(chess)\n",
    "plt.show()\n",
    "cv2.imwrite(\"6X16B.bmp\", chess)\n"
   ]
  },
  {
   "cell_type": "code",
   "execution_count": 34,
   "metadata": {},
   "outputs": [
    {
     "data": {
      "image/png": "[encoded data removed]",
      "text/plain": [
       "<Figure size 432x288 with 1 Axes>"
      ]
     },
     "metadata": {},
     "output_type": "display_data"
    },
    {
     "data": {
      "text/plain": [
       "True"
      ]
     },
     "execution_count": 34,
     "metadata": {},
     "output_type": "execute_result"
    }
   ],
   "source": [
    "rows = 6\n",
    "cols = 16\n",
    "\n",
    "box_width = width/cols\n",
    "box_height = height/rows\n",
    "color = [white, black]\n",
    "color_reversed = [black, white]\n",
    "\n",
    "chess = create_blank(width, height, rgb_color=white)\n",
    "\n",
    "for i in range(rows):\n",
    "    for j in range(cols):\n",
    "        pts = np.array([[(j+0)*box_width, (i+0)*box_height], [(j+1)*box_width, (i+0)*box_height], [(j+1)*box_width, (i+1)*box_height], [(j+0)*box_width, (i+1)*box_height]])\n",
    "        if i%2 == 0:\n",
    "            chess = cv2.fillPoly(chess, np.int32([pts]), color_reversed[j%2])\n",
    "        else:\n",
    "            chess = cv2.fillPoly(chess, np.int32([pts]), color[j%2])\n",
    "\n",
    "plt.imshow(chess)\n",
    "plt.show()\n",
    "cv2.imwrite(\"6X16A.bmp\", chess)\n"
   ]
  },
  {
   "cell_type": "code",
   "execution_count": 35,
   "metadata": {},
   "outputs": [
    {
     "data": {
      "image/png": "[encoded data removed]",
      "text/plain": [
       "<Figure size 432x288 with 1 Axes>"
      ]
     },
     "metadata": {},
     "output_type": "display_data"
    },
    {
     "data": {
      "text/plain": [
       "True"
      ]
     },
     "execution_count": 35,
     "metadata": {},
     "output_type": "execute_result"
    }
   ],
   "source": [
    "rows = 6\n",
    "cols = 1\n",
    "\n",
    "box_width = width/cols\n",
    "box_height = height/rows\n",
    "color = [white, black]\n",
    "color_reversed = [black, white]\n",
    "\n",
    "chess = create_blank(width, height, rgb_color=white)\n",
    "\n",
    "for i in range(rows):\n",
    "    for j in range(cols):\n",
    "        pts = np.array([[(j+0)*box_width, (i+0)*box_height], [(j+1)*box_width, (i+0)*box_height], [(j+1)*box_width, (i+1)*box_height], [(j+0)*box_width, (i+1)*box_height]])\n",
    "        if i%2 == 0:\n",
    "            chess = cv2.fillPoly(chess, np.int32([pts]), color[j%2])\n",
    "        else:\n",
    "            chess = cv2.fillPoly(chess, np.int32([pts]), color_reversed[j%2])\n",
    "\n",
    "plt.imshow(chess)\n",
    "plt.show()\n",
    "cv2.imwrite(\"6X1B.bmp\", chess)\n"
   ]
  },
  {
   "cell_type": "code",
   "execution_count": 36,
   "metadata": {},
   "outputs": [
    {
     "data": {
      "image/png": "[encoded data removed]",
      "text/plain": [
       "<Figure size 432x288 with 1 Axes>"
      ]
     },
     "metadata": {},
     "output_type": "display_data"
    },
    {
     "data": {
      "text/plain": [
       "True"
      ]
     },
     "execution_count": 36,
     "metadata": {},
     "output_type": "execute_result"
    }
   ],
   "source": [
    "rows = 6\n",
    "cols = 1\n",
    "\n",
    "box_width = width/cols\n",
    "box_height = height/rows\n",
    "color = [white, black]\n",
    "color_reversed = [black, white]\n",
    "\n",
    "chess = create_blank(width, height, rgb_color=white)\n",
    "\n",
    "for i in range(rows):\n",
    "    for j in range(cols):\n",
    "        pts = np.array([[(j+0)*box_width, (i+0)*box_height], [(j+1)*box_width, (i+0)*box_height], [(j+1)*box_width, (i+1)*box_height], [(j+0)*box_width, (i+1)*box_height]])\n",
    "        if i%2 == 0:\n",
    "            chess = cv2.fillPoly(chess, np.int32([pts]), color_reversed[j%2])\n",
    "        else:\n",
    "            chess = cv2.fillPoly(chess, np.int32([pts]), color[j%2])\n",
    "\n",
    "plt.imshow(chess)\n",
    "plt.show()\n",
    "cv2.imwrite(\"6X1A.bmp\", chess)\n"
   ]
  },
  {
   "cell_type": "code",
   "execution_count": 37,
   "metadata": {},
   "outputs": [
    {
     "data": {
      "image/png": "[encoded data removed]",
      "text/plain": [
       "<Figure size 432x288 with 1 Axes>"
      ]
     },
     "metadata": {},
     "output_type": "display_data"
    },
    {
     "data": {
      "text/plain": [
       "True"
      ]
     },
     "execution_count": 37,
     "metadata": {},
     "output_type": "execute_result"
    }
   ],
   "source": [
    "rows = 1\n",
    "cols = 16\n",
    "\n",
    "box_width = width/cols\n",
    "box_height = height/rows\n",
    "color = [white, black]\n",
    "color_reversed = [black, white]\n",
    "\n",
    "chess = create_blank(width, height, rgb_color=white)\n",
    "\n",
    "for i in range(rows):\n",
    "    for j in range(cols):\n",
    "        pts = np.array([[(j+0)*box_width, (i+0)*box_height], [(j+1)*box_width, (i+0)*box_height], [(j+1)*box_width, (i+1)*box_height], [(j+0)*box_width, (i+1)*box_height]])\n",
    "        if i%2 == 0:\n",
    "            chess = cv2.fillPoly(chess, np.int32([pts]), color[j%2])\n",
    "        else:\n",
    "            chess = cv2.fillPoly(chess, np.int32([pts]), color_reversed[j%2])\n",
    "\n",
    "plt.imshow(chess)\n",
    "plt.show()\n",
    "cv2.imwrite(\"1X16B.bmp\", chess)\n"
   ]
  },
  {
   "cell_type": "code",
   "execution_count": 38,
   "metadata": {},
   "outputs": [
    {
     "data": {
      "image/png": "[encoded data removed]",
      "text/plain": [
       "<Figure size 432x288 with 1 Axes>"
      ]
     },
     "metadata": {},
     "output_type": "display_data"
    },
    {
     "data": {
      "text/plain": [
       "True"
      ]
     },
     "execution_count": 38,
     "metadata": {},
     "output_type": "execute_result"
    }
   ],
   "source": [
    "rows = 1\n",
    "cols = 16\n",
    "\n",
    "box_width = width/cols\n",
    "box_height = height/rows\n",
    "color = [white, black]\n",
    "color_reversed = [black, white]\n",
    "\n",
    "chess = create_blank(width, height, rgb_color=white)\n",
    "\n",
    "for i in range(rows):\n",
    "    for j in range(cols):\n",
    "        pts = np.array([[(j+0)*box_width, (i+0)*box_height], [(j+1)*box_width, (i+0)*box_height], [(j+1)*box_width, (i+1)*box_height], [(j+0)*box_width, (i+1)*box_height]])\n",
    "        if i%2 == 0:\n",
    "            chess = cv2.fillPoly(chess, np.int32([pts]), color_reversed[j%2])\n",
    "        else:\n",
    "            chess = cv2.fillPoly(chess, np.int32([pts]), color[j%2])\n",
    "\n",
    "plt.imshow(chess)\n",
    "plt.show()\n",
    "cv2.imwrite(\"1X16A.bmp\", chess)"
   ]
  },
  {
   "cell_type": "code",
   "execution_count": 39,
   "metadata": {},
   "outputs": [
    {
     "data": {
      "image/png": "[encoded data removed]",
      "text/plain": [
       "<Figure size 432x288 with 1 Axes>"
      ]
     },
     "metadata": {},
     "output_type": "display_data"
    },
    {
     "data": {
      "text/plain": [
       "True"
      ]
     },
     "execution_count": 39,
     "metadata": {},
     "output_type": "execute_result"
    }
   ],
   "source": [
    "rows = 720\n",
    "cols = 1\n",
    "\n",
    "box_width = width/cols\n",
    "box_height = height/rows\n",
    "color = [white, black]\n",
    "color_reversed = [black, white]\n",
    "\n",
    "chess = create_blank(width, height, rgb_color=white)\n",
    "\n",
    "for i in range(rows):\n",
    "    for j in range(cols):\n",
    "        pts = np.array([[(j+0)*box_width, (i+0)*box_height], [(j+1)*box_width, (i+0)*box_height], [(j+1)*box_width, (i+1)*box_height], [(j+0)*box_width, (i+1)*box_height]])\n",
    "        if i%2 == 0:\n",
    "            chess = cv2.fillPoly(chess, np.int32([pts]), color[j%2])\n",
    "        else:\n",
    "            chess = cv2.fillPoly(chess, np.int32([pts]), color_reversed[j%2])\n",
    "\n",
    "plt.imshow(chess)\n",
    "plt.show()\n",
    "cv2.imwrite(\"720X1B.bmp\", chess)\n"
   ]
  },
  {
   "cell_type": "code",
   "execution_count": 40,
   "metadata": {},
   "outputs": [
    {
     "data": {
      "image/png": "[encoded data removed]",
      "text/plain": [
       "<Figure size 432x288 with 1 Axes>"
      ]
     },
     "metadata": {},
     "output_type": "display_data"
    },
    {
     "data": {
      "text/plain": [
       "True"
      ]
     },
     "execution_count": 40,
     "metadata": {},
     "output_type": "execute_result"
    }
   ],
   "source": [
    "rows = height\n",
    "cols = 1\n",
    "\n",
    "box_width = width/cols\n",
    "box_height = height/rows\n",
    "color = [white, black]\n",
    "color_reversed = [black, white]\n",
    "\n",
    "chess = create_blank(width, height, rgb_color=white)\n",
    "\n",
    "for i in range(rows):\n",
    "    for j in range(cols):\n",
    "        pts = np.array([[(j+0)*box_width, (i+0)*box_height], [(j+1)*box_width, (i+0)*box_height], [(j+1)*box_width, (i+1)*box_height], [(j+0)*box_width, (i+1)*box_height]])\n",
    "        if i%2 == 0:\n",
    "            chess = cv2.fillPoly(chess, np.int32([pts]), color_reversed[j%2])\n",
    "        else:\n",
    "            chess = cv2.fillPoly(chess, np.int32([pts]), color[j%2])\n",
    "\n",
    "plt.imshow(chess)\n",
    "plt.show()\n",
    "cv2.imwrite(\"720X1A.bmp\", chess)"
   ]
  },
  {
   "cell_type": "code",
   "execution_count": 41,
   "metadata": {},
   "outputs": [
    {
     "data": {
      "image/png": "[encoded data removed]",
      "text/plain": [
       "<Figure size 432x288 with 1 Axes>"
      ]
     },
     "metadata": {},
     "output_type": "display_data"
    },
    {
     "data": {
      "text/plain": [
       "True"
      ]
     },
     "execution_count": 41,
     "metadata": {},
     "output_type": "execute_result"
    }
   ],
   "source": [
    "rows = 1\n",
    "cols = 2\n",
    "\n",
    "box_width = width/cols\n",
    "box_height = height/rows\n",
    "color = [white, black]\n",
    "color_reversed = [black, white]\n",
    "\n",
    "chess = create_blank(width, height, rgb_color=white)\n",
    "\n",
    "for i in range(rows):\n",
    "    for j in range(cols):\n",
    "        pts = np.array([[(j+0)*box_width, (i+0)*box_height], [(j+1)*box_width, (i+0)*box_height], [(j+1)*box_width, (i+1)*box_height], [(j+0)*box_width, (i+1)*box_height]])\n",
    "        if i%2 == 0:\n",
    "            chess = cv2.fillPoly(chess, np.int32([pts]), color[j%2])\n",
    "        else:\n",
    "            chess = cv2.fillPoly(chess, np.int32([pts]), color_reversed[j%2])\n",
    "\n",
    "plt.imshow(chess)\n",
    "plt.show()\n",
    "cv2.imwrite(\"2x1B.bmp\", chess)\n"
   ]
  },
  {
   "cell_type": "code",
   "execution_count": 42,
   "metadata": {},
   "outputs": [
    {
     "data": {
      "image/png": "[encoded data removed]",
      "text/plain": [
       "<Figure size 432x288 with 1 Axes>"
      ]
     },
     "metadata": {},
     "output_type": "display_data"
    },
    {
     "data": {
      "text/plain": [
       "True"
      ]
     },
     "execution_count": 42,
     "metadata": {},
     "output_type": "execute_result"
    }
   ],
   "source": [
    "rows = 1\n",
    "cols = 2\n",
    "\n",
    "box_width = width/cols\n",
    "box_height = height/rows\n",
    "color = [white, black]\n",
    "color_reversed = [black, white]\n",
    "\n",
    "chess = create_blank(width, height, rgb_color=white)\n",
    "\n",
    "for i in range(rows):\n",
    "    for j in range(cols):\n",
    "        pts = np.array([[(j+0)*box_width, (i+0)*box_height], [(j+1)*box_width, (i+0)*box_height], [(j+1)*box_width, (i+1)*box_height], [(j+0)*box_width, (i+1)*box_height]])\n",
    "        if i%2 == 0:\n",
    "            chess = cv2.fillPoly(chess, np.int32([pts]), color_reversed[j%2])\n",
    "        else:\n",
    "            chess = cv2.fillPoly(chess, np.int32([pts]), color[j%2])\n",
    "\n",
    "plt.imshow(chess)\n",
    "plt.show()\n",
    "cv2.imwrite(\"2x1A.bmp\", chess)"
   ]
  },
  {
   "cell_type": "code",
   "execution_count": 43,
   "metadata": {},
   "outputs": [
    {
     "data": {
      "image/png": "[encoded data removed]",
      "text/plain": [
       "<Figure size 432x288 with 1 Axes>"
      ]
     },
     "metadata": {},
     "output_type": "display_data"
    },
    {
     "data": {
      "text/plain": [
       "True"
      ]
     },
     "execution_count": 43,
     "metadata": {},
     "output_type": "execute_result"
    }
   ],
   "source": [
    "rows = 1\n",
    "cols = width\n",
    "\n",
    "box_width = width/cols\n",
    "box_height = height/rows\n",
    "color = [white, black]\n",
    "color_reversed = [black, white]\n",
    "\n",
    "chess = create_blank(width, height, rgb_color=white)\n",
    "\n",
    "for i in range(rows):\n",
    "    for j in range(cols):\n",
    "        pts = np.array([[(j+0)*box_width, (i+0)*box_height], [(j+1)*box_width, (i+0)*box_height], [(j+1)*box_width, (i+1)*box_height], [(j+0)*box_width, (i+1)*box_height]])\n",
    "        if i%2 == 0:\n",
    "            chess = cv2.fillPoly(chess, np.int32([pts]), color_reversed[j%2])\n",
    "        else:\n",
    "            chess = cv2.fillPoly(chess, np.int32([pts]), color[j%2])\n",
    "\n",
    "plt.imshow(chess)\n",
    "plt.show()\n",
    "cv2.imwrite(\"1X3840A.bmp\", chess)"
   ]
  },
  {
   "cell_type": "code",
   "execution_count": 44,
   "metadata": {},
   "outputs": [
    {
     "data": {
      "image/png": "[encoded data removed]",
      "text/plain": [
       "<Figure size 432x288 with 1 Axes>"
      ]
     },
     "metadata": {},
     "output_type": "display_data"
    },
    {
     "data": {
      "text/plain": [
       "True"
      ]
     },
     "execution_count": 44,
     "metadata": {},
     "output_type": "execute_result"
    }
   ],
   "source": [
    "rows = 1\n",
    "cols = width\n",
    "\n",
    "box_width = width/cols\n",
    "box_height = height/rows\n",
    "color = [white, black]\n",
    "color_reversed = [black, white]\n",
    "\n",
    "chess = create_blank(width, height, rgb_color=white)\n",
    "\n",
    "for i in range(rows):\n",
    "    for j in range(cols):\n",
    "        pts = np.array([[(j+0)*box_width, (i+0)*box_height], [(j+1)*box_width, (i+0)*box_height], [(j+1)*box_width, (i+1)*box_height], [(j+0)*box_width, (i+1)*box_height]])\n",
    "        if i%2 == 0:\n",
    "            chess = cv2.fillPoly(chess, np.int32([pts]), color[j%2])\n",
    "        else:\n",
    "            chess = cv2.fillPoly(chess, np.int32([pts]), color_reversed[j%2])\n",
    "\n",
    "plt.imshow(chess)\n",
    "plt.show()\n",
    "cv2.imwrite(\"1X3840B.bmp\", chess)"
   ]
  }
 ],
 "metadata": {
  "kernelspec": {
   "display_name": "Python 3",
   "language": "python",
   "name": "python3"
  },
  "language_info": {
   "codemirror_mode": {
    "name": "ipython",
    "version": 3
   },
   "file_extension": ".py",
   "mimetype": "text/x-python",
   "name": "python",
   "nbconvert_exporter": "python",
   "pygments_lexer": "ipython3",
   "version": "3.6.4"
  }
 },
 "nbformat": 4,
 "nbformat_minor": 2
}
