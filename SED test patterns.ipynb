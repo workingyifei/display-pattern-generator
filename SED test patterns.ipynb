{
 "cells": [
  {
   "cell_type": "markdown",
   "metadata": {},
   "source": [
    "# SED Test Patterns"
   ]
  },
  {
   "cell_type": "code",
   "execution_count": 2,
   "metadata": {},
   "outputs": [],
   "source": [
    "import pandas as pd\n",
    "import numpy as np\n",
    "import matplotlib.pyplot as plt\n",
    "import cv2\n",
    "import os\n"
   ]
  },
  {
   "cell_type": "code",
   "execution_count": 3,
   "metadata": {},
   "outputs": [],
   "source": [
    "\n",
    "def create_blank(width, height, rgb_color=(0,0,0)):\n",
    "    image = np.zeros((height, width, 3), np.uint8)\n",
    "    \n",
    "#     color = cv2.cvtColor(image, cv2.COLOR_RGB2GRAY)   \n",
    "    color = tuple(reversed(rgb_color))\n",
    "    image[:] = color\n",
    "\n",
    "    return image\n"
   ]
  },
  {
   "cell_type": "code",
   "execution_count": 4,
   "metadata": {},
   "outputs": [],
   "source": [
    "height, width = 720, 3840\n",
    "red = (0, 0, 255)\n",
    "green = (0, 255, 0)\n",
    "blue = (255, 0, 0)\n",
    "pink = (255, 0, 255)\n",
    "white = (255, 255, 255)\n",
    "black = (0, 0, 0)\n",
    "gray16 = (15, 15, 15)\n",
    "gray32 = (31, 31, 31)\n",
    "gray64 = (63, 63, 63)\n",
    "gray128 = (127, 127, 127)"
   ]
  },
  {
   "cell_type": "code",
   "execution_count": 62,
   "metadata": {},
   "outputs": [
    {
     "data": {
      "text/plain": [
       "<matplotlib.image.AxesImage at 0x7f9e09b58b00>"
      ]
     },
     "execution_count": 62,
     "metadata": {},
     "output_type": "execute_result"
    },
    {
     "data": {
      "image/png": "[encoded data removed]",
      "text/plain": [
       "<Figure size 432x288 with 1 Axes>"
      ]
     },
     "metadata": {},
     "output_type": "display_data"
    }
   ],
   "source": [
    "solid_red = create_blank(width, height, rgb_color=red)\n",
    "cv2.imwrite(\"solid_red.bmp\", solid_red)\n",
    "plt.imshow(solid_red)\n"
   ]
  },
  {
   "cell_type": "code",
   "execution_count": 63,
   "metadata": {},
   "outputs": [
    {
     "data": {
      "text/plain": [
       "<matplotlib.image.AxesImage at 0x7f9e09e157f0>"
      ]
     },
     "execution_count": 63,
     "metadata": {},
     "output_type": "execute_result"
    },
    {
     "data": {
      "image/png": "[encoded data removed]",
      "text/plain": [
       "<Figure size 432x288 with 1 Axes>"
      ]
     },
     "metadata": {},
     "output_type": "display_data"
    }
   ],
   "source": [
    "solid_green = create_blank(width, height, rgb_color=green)\n",
    "cv2.imwrite(\"solid_green.bmp\", solid_green)\n",
    "plt.imshow(solid_green)\n"
   ]
  },
  {
   "cell_type": "code",
   "execution_count": 64,
   "metadata": {},
   "outputs": [
    {
     "data": {
      "text/plain": [
       "<matplotlib.image.AxesImage at 0x7f9e09c9cf60>"
      ]
     },
     "execution_count": 64,
     "metadata": {},
     "output_type": "execute_result"
    },
    {
     "data": {
      "image/png": "[encoded data removed]",
      "text/plain": [
       "<Figure size 432x288 with 1 Axes>"
      ]
     },
     "metadata": {},
     "output_type": "display_data"
    }
   ],
   "source": [
    "solid_blue = create_blank(width, height, rgb_color=blue)\n",
    "cv2.imwrite(\"solid_blue.bmp\", solid_blue)\n",
    "plt.imshow(solid_blue)"
   ]
  },
  {
   "cell_type": "code",
   "execution_count": 65,
   "metadata": {},
   "outputs": [
    {
     "data": {
      "text/plain": [
       "<matplotlib.image.AxesImage at 0x7f9e09e787f0>"
      ]
     },
     "execution_count": 65,
     "metadata": {},
     "output_type": "execute_result"
    },
    {
     "data": {
      "image/png": "[encoded data removed]",
      "text/plain": [
       "<Figure size 432x288 with 1 Axes>"
      ]
     },
     "metadata": {},
     "output_type": "display_data"
    }
   ],
   "source": [
    "solid_black = create_blank(width, height, rgb_color=black)\n",
    "cv2.imwrite(\"solid_black.bmp\", solid_black)\n",
    "plt.imshow(solid_black)\n"
   ]
  },
  {
   "cell_type": "code",
   "execution_count": 66,
   "metadata": {},
   "outputs": [
    {
     "data": {
      "text/plain": [
       "<matplotlib.image.AxesImage at 0x7f9e09e91d68>"
      ]
     },
     "execution_count": 66,
     "metadata": {},
     "output_type": "execute_result"
    },
    {
     "data": {
      "image/png": "[encoded data removed]",
      "text/plain": [
       "<Figure size 432x288 with 1 Axes>"
      ]
     },
     "metadata": {},
     "output_type": "display_data"
    }
   ],
   "source": [
    "solid_white = create_blank(width, height, rgb_color=white)\n",
    "cv2.imwrite(\"solid_white.bmp\", solid_white)\n",
    "plt.imshow(solid_white)\n"
   ]
  },
  {
   "cell_type": "code",
   "execution_count": 67,
   "metadata": {},
   "outputs": [
    {
     "data": {
      "text/plain": [
       "<matplotlib.image.AxesImage at 0x7f9e09ec98d0>"
      ]
     },
     "execution_count": 67,
     "metadata": {},
     "output_type": "execute_result"
    },
    {
     "data": {
      "image/png": "[encoded data removed]",
      "text/plain": [
       "<Figure size 432x288 with 1 Axes>"
      ]
     },
     "metadata": {},
     "output_type": "display_data"
    }
   ],
   "source": [
    "img_gray16 = create_blank(width, height, rgb_color=gray16)\n",
    "cv2.imwrite(\"img_gray16.bmp\", img_gray16)\n",
    "plt.imshow(img_gray16)"
   ]
  },
  {
   "cell_type": "code",
   "execution_count": 68,
   "metadata": {
    "scrolled": true
   },
   "outputs": [
    {
     "data": {
      "text/plain": [
       "<matplotlib.image.AxesImage at 0x7f9e09df14a8>"
      ]
     },
     "execution_count": 68,
     "metadata": {},
     "output_type": "execute_result"
    },
    {
     "data": {
      "image/png": "[encoded data removed]",
      "text/plain": [
       "<Figure size 432x288 with 1 Axes>"
      ]
     },
     "metadata": {},
     "output_type": "display_data"
    }
   ],
   "source": [
    "img_gray32 = create_blank(width, height, rgb_color=gray32)\n",
    "cv2.imwrite(\"img_gray32.bmp\", img_gray32)\n",
    "plt.imshow(img_gray32)"
   ]
  },
  {
   "cell_type": "code",
   "execution_count": 69,
   "metadata": {},
   "outputs": [
    {
     "data": {
      "text/plain": [
       "<matplotlib.image.AxesImage at 0x7f9e09e43fd0>"
      ]
     },
     "execution_count": 69,
     "metadata": {},
     "output_type": "execute_result"
    },
    {
     "data": {
      "image/png": "[encoded data removed]",
      "text/plain": [
       "<Figure size 432x288 with 1 Axes>"
      ]
     },
     "metadata": {},
     "output_type": "display_data"
    }
   ],
   "source": [
    "img_gray64 = create_blank(width, height, rgb_color=gray64)\n",
    "cv2.imwrite(\"img_gray64.bmp\", img_gray64)\n",
    "plt.imshow(img_gray64)\n"
   ]
  },
  {
   "cell_type": "code",
   "execution_count": 70,
   "metadata": {},
   "outputs": [
    {
     "data": {
      "text/plain": [
       "True"
      ]
     },
     "execution_count": 70,
     "metadata": {},
     "output_type": "execute_result"
    },
    {
     "data": {
      "image/png": "[encoded data removed]",
      "text/plain": [
       "<Figure size 432x288 with 1 Axes>"
      ]
     },
     "metadata": {},
     "output_type": "display_data"
    }
   ],
   "source": [
    "# Cross-talk\n",
    "\n",
    "box_width = 959\n",
    "box_height = 239\n",
    "\n",
    "pts = np.array([[(width-box_width)/2, (height-box_height)/2], [(width-box_width)/2+box_width, (height-box_height)/2], [(width-box_width)/2+box_width, (height-box_height)/2+box_height], [(width-box_width)/2, (height-box_height)/2+box_height]])\n",
    "\n",
    "img_crosstalk = create_blank(width, height, rgb_color=white)\n",
    "img_crosstalk = cv2.fillPoly(img_crosstalk, np.int32([pts]), gray32)\n",
    "plt.imshow(img_crosstalk)\n",
    "cv2.imwrite(\"crosstalk.bmp\", img_crosstalk)"
   ]
  },
  {
   "cell_type": "code",
   "execution_count": 71,
   "metadata": {},
   "outputs": [
    {
     "data": {
      "text/plain": [
       "True"
      ]
     },
     "execution_count": 71,
     "metadata": {},
     "output_type": "execute_result"
    },
    {
     "data": {
      "image/png": "[encoded data removed]",
      "text/plain": [
       "<Figure size 432x288 with 1 Axes>"
      ]
     },
     "metadata": {},
     "output_type": "display_data"
    }
   ],
   "source": [
    "# Cross-talk Black\n",
    "\n",
    "box_width = 959\n",
    "box_height = 239\n",
    "\n",
    "pts = np.array([[(width-box_width)/2, (height-box_height)/2], [(width-box_width)/2+box_width, (height-box_height)/2], [(width-box_width)/2+box_width, (height-box_height)/2+box_height], [(width-box_width)/2, (height-box_height)/2+box_height]])\n",
    "\n",
    "img_crosstalk = create_blank(width, height, rgb_color=black)\n",
    "img_crosstalk = cv2.fillPoly(img_crosstalk, np.int32([pts]), gray32)\n",
    "plt.imshow(img_crosstalk)\n",
    "cv2.imwrite(\"crosstalk_black.bmp\", img_crosstalk)"
   ]
  },
  {
   "cell_type": "code",
   "execution_count": 72,
   "metadata": {},
   "outputs": [
    {
     "data": {
      "text/plain": [
       "True"
      ]
     },
     "execution_count": 72,
     "metadata": {},
     "output_type": "execute_result"
    },
    {
     "data": {
      "image/png": "[encoded data removed]",
      "text/plain": [
       "<Figure size 432x288 with 1 Axes>"
      ]
     },
     "metadata": {},
     "output_type": "display_data"
    }
   ],
   "source": [
    "# Grayscale\n",
    "\n",
    "box_width = int(width/256)\n",
    "img_grayscale = create_blank(width, height, rgb_color=white)\n",
    "\n",
    "for i in range(0, 256):\n",
    "    color = [255-i, 255-i, 255-i]\n",
    "    pts = np.array([[(i+0)*box_width, 0], [(i+1)*box_width, 0], [(i+1)*box_width, height], [(i+0)*box_width, height]])\n",
    "    img_flicker = cv2.fillPoly(img_grayscale, np.int32([pts]), color)\n",
    "\n",
    "plt.imshow(img_grayscale)\n",
    "cv2.imwrite(\"grayscale.bmp\", img_grayscale)\n"
   ]
  },
  {
   "cell_type": "code",
   "execution_count": 73,
   "metadata": {},
   "outputs": [
    {
     "data": {
      "text/plain": [
       "True"
      ]
     },
     "execution_count": 73,
     "metadata": {},
     "output_type": "execute_result"
    },
    {
     "data": {
      "image/png": "[encoded data removed]",
      "text/plain": [
       "<Figure size 432x288 with 1 Axes>"
      ]
     },
     "metadata": {},
     "output_type": "display_data"
    }
   ],
   "source": [
    "# Grayscale reversed\n",
    "\n",
    "box_width = int(width/256)\n",
    "img_grayscale_reversed = create_blank(width, height, rgb_color=white)\n",
    "\n",
    "for i in range(0, 256):\n",
    "    color = [i, i, i]\n",
    "    pts = np.array([[(i+0)*box_width, 0], [(i+1)*box_width, 0], [(i+1)*box_width, height], [(i+0)*box_width, height]])\n",
    "    img_flicker = cv2.fillPoly(img_grayscale_reversed, np.int32([pts]), color)\n",
    "\n",
    "plt.imshow(img_grayscale_reversed)\n",
    "cv2.imwrite(\"grayscale_reversed.bmp\", img_grayscale_reversed)\n"
   ]
  },
  {
   "cell_type": "code",
   "execution_count": 5,
   "metadata": {
    "scrolled": true
   },
   "outputs": [
    {
     "data": {
      "image/png": "[encoded data removed]",
      "text/plain": [
       "<Figure size 432x288 with 1 Axes>"
      ]
     },
     "metadata": {},
     "output_type": "display_data"
    },
    {
     "data": {
      "image/png": "[encoded data removed]",
      "text/plain": [
       "<Figure size 432x288 with 1 Axes>"
      ]
     },
     "metadata": {},
     "output_type": "display_data"
    },
    {
     "data": {
      "text/plain": [
       "True"
      ]
     },
     "execution_count": 5,
     "metadata": {},
     "output_type": "execute_result"
    }
   ],
   "source": [
    "# Skip one dot\n",
    "\n",
    "\n",
    "stress = create_blank(width, height, rgb_color=white)\n",
    "plt.imshow(stress)\n",
    "plt.show()\n",
    "\n",
    "even_row_pixel_color = [[pink, green, pink],[green, pink, green]]\n",
    "odd_row_pixel_color = [[green, pink, green], [pink, green, pink]]\n",
    "\n",
    "for i in range(0, height):\n",
    "    for j in range(0, width, 3):\n",
    "        if i % 2 == 0: #even row\n",
    "            stress[i,j] = even_row_pixel_color[j%2][0]\n",
    "            stress[i, j+1] = even_row_pixel_color[j%2][1]\n",
    "            stress[i, j+2] = even_row_pixel_color[j%2][2]\n",
    "        else: # odd row\n",
    "            stress[i,j] = odd_row_pixel_color[j%2][0]\n",
    "            stress[i, j+1] = odd_row_pixel_color[j%2][1]\n",
    "            stress[i, j+2] = odd_row_pixel_color[j%2][2]\n",
    "\n",
    "        \n",
    "plt.imshow(stress)\n",
    "plt.show()\n",
    "cv2.imwrite(\"skip_one_dot.bmp\", stress)"
   ]
  },
  {
   "cell_type": "markdown",
   "metadata": {},
   "source": [
    "# Checker (chess) pattern"
   ]
  },
  {
   "cell_type": "code",
   "execution_count": 75,
   "metadata": {},
   "outputs": [
    {
     "data": {
      "image/png": "[encoded data removed]",
      "text/plain": [
       "<Figure size 432x288 with 1 Axes>"
      ]
     },
     "metadata": {},
     "output_type": "display_data"
    },
    {
     "data": {
      "text/plain": [
       "True"
      ]
     },
     "execution_count": 75,
     "metadata": {},
     "output_type": "execute_result"
    }
   ],
   "source": [
    "rows = 6\n",
    "cols = 32\n",
    "\n",
    "box_width = width/cols\n",
    "box_height = height/rows\n",
    "color = [white, black]\n",
    "color_reversed = [black, white]\n",
    "\n",
    "chess = create_blank(width, height, rgb_color=white)\n",
    "\n",
    "for i in range(rows):\n",
    "    for j in range(cols):\n",
    "        pts = np.array([[(j+0)*box_width, (i+0)*box_height], [(j+1)*box_width, (i+0)*box_height], [(j+1)*box_width, (i+1)*box_height], [(j+0)*box_width, (i+1)*box_height]])\n",
    "        if i%2 == 0:\n",
    "            chess = cv2.fillPoly(chess, np.int32([pts]), color[j%2])\n",
    "        else:\n",
    "            chess = cv2.fillPoly(chess, np.int32([pts]), color_reversed[j%2])\n",
    "\n",
    "plt.imshow(chess)\n",
    "plt.show()\n",
    "cv2.imwrite(\"32x6B.bmp\", chess)\n"
   ]
  },
  {
   "cell_type": "code",
   "execution_count": 76,
   "metadata": {},
   "outputs": [
    {
     "data": {
      "image/png": "[encoded data removed]",
      "text/plain": [
       "<Figure size 432x288 with 1 Axes>"
      ]
     },
     "metadata": {},
     "output_type": "display_data"
    },
    {
     "data": {
      "text/plain": [
       "True"
      ]
     },
     "execution_count": 76,
     "metadata": {},
     "output_type": "execute_result"
    }
   ],
   "source": [
    "rows = 6\n",
    "cols = 32\n",
    "\n",
    "box_width = width/cols\n",
    "box_height = height/rows\n",
    "color = [white, black]\n",
    "color_reversed = [black, white]\n",
    "\n",
    "chess = create_blank(width, height, rgb_color=white)\n",
    "\n",
    "for i in range(rows):\n",
    "    for j in range(cols):\n",
    "        pts = np.array([[(j+0)*box_width, (i+0)*box_height], [(j+1)*box_width, (i+0)*box_height], [(j+1)*box_width, (i+1)*box_height], [(j+0)*box_width, (i+1)*box_height]])\n",
    "        if i%2 == 0:\n",
    "            chess = cv2.fillPoly(chess, np.int32([pts]), color_reversed[j%2])\n",
    "        else:\n",
    "            chess = cv2.fillPoly(chess, np.int32([pts]), color[j%2])\n",
    "\n",
    "plt.imshow(chess)\n",
    "plt.show()\n",
    "cv2.imwrite(\"32x6A.bmp\", chess)\n"
   ]
  },
  {
   "cell_type": "code",
   "execution_count": 77,
   "metadata": {},
   "outputs": [
    {
     "data": {
      "image/png": "[encoded data removed]",
      "text/plain": [
       "<Figure size 432x288 with 1 Axes>"
      ]
     },
     "metadata": {},
     "output_type": "display_data"
    },
    {
     "data": {
      "text/plain": [
       "True"
      ]
     },
     "execution_count": 77,
     "metadata": {},
     "output_type": "execute_result"
    }
   ],
   "source": [
    "rows = 3\n",
    "cols = 32\n",
    "\n",
    "box_width = width/cols\n",
    "box_height = height/rows\n",
    "color = [white, black]\n",
    "color_reversed = [black, white]\n",
    "\n",
    "chess = create_blank(width, height, rgb_color=white)\n",
    "\n",
    "for i in range(rows):\n",
    "    for j in range(cols):\n",
    "        pts = np.array([[(j+0)*box_width, (i+0)*box_height], [(j+1)*box_width, (i+0)*box_height], [(j+1)*box_width, (i+1)*box_height], [(j+0)*box_width, (i+1)*box_height]])\n",
    "        if i%2 == 0:\n",
    "            chess = cv2.fillPoly(chess, np.int32([pts]), color[j%2])\n",
    "        else:\n",
    "            chess = cv2.fillPoly(chess, np.int32([pts]), color_reversed[j%2])\n",
    "\n",
    "plt.imshow(chess)\n",
    "plt.show()\n",
    "cv2.imwrite(\"32x3B.bmp\", chess)\n"
   ]
  },
  {
   "cell_type": "code",
   "execution_count": 78,
   "metadata": {},
   "outputs": [
    {
     "data": {
      "image/png": "[encoded data removed]",
      "text/plain": [
       "<Figure size 432x288 with 1 Axes>"
      ]
     },
     "metadata": {},
     "output_type": "display_data"
    },
    {
     "data": {
      "text/plain": [
       "True"
      ]
     },
     "execution_count": 78,
     "metadata": {},
     "output_type": "execute_result"
    }
   ],
   "source": [
    "rows = 3\n",
    "cols = 32\n",
    "\n",
    "box_width = width/cols\n",
    "box_height = height/rows\n",
    "color = [white, black]\n",
    "color_reversed = [black, white]\n",
    "\n",
    "chess = create_blank(width, height, rgb_color=white)\n",
    "\n",
    "for i in range(rows):\n",
    "    for j in range(cols):\n",
    "        pts = np.array([[(j+0)*box_width, (i+0)*box_height], [(j+1)*box_width, (i+0)*box_height], [(j+1)*box_width, (i+1)*box_height], [(j+0)*box_width, (i+1)*box_height]])\n",
    "        if i%2 == 0:\n",
    "            chess = cv2.fillPoly(chess, np.int32([pts]), color_reversed[j%2])\n",
    "        else:\n",
    "            chess = cv2.fillPoly(chess, np.int32([pts]), color[j%2])\n",
    "\n",
    "plt.imshow(chess)\n",
    "plt.show()\n",
    "cv2.imwrite(\"32x3A.bmp\", chess)\n"
   ]
  },
  {
   "cell_type": "code",
   "execution_count": 79,
   "metadata": {},
   "outputs": [
    {
     "data": {
      "image/png": "[encoded data removed]",
      "text/plain": [
       "<Figure size 432x288 with 1 Axes>"
      ]
     },
     "metadata": {},
     "output_type": "display_data"
    },
    {
     "data": {
      "text/plain": [
       "True"
      ]
     },
     "execution_count": 79,
     "metadata": {},
     "output_type": "execute_result"
    }
   ],
   "source": [
    "rows = 6\n",
    "cols = 16\n",
    "\n",
    "box_width = width/cols\n",
    "box_height = height/rows\n",
    "color = [white, black]\n",
    "color_reversed = [black, white]\n",
    "\n",
    "chess = create_blank(width, height, rgb_color=white)\n",
    "\n",
    "for i in range(rows):\n",
    "    for j in range(cols):\n",
    "        pts = np.array([[(j+0)*box_width, (i+0)*box_height], [(j+1)*box_width, (i+0)*box_height], [(j+1)*box_width, (i+1)*box_height], [(j+0)*box_width, (i+1)*box_height]])\n",
    "        if i%2 == 0:\n",
    "            chess = cv2.fillPoly(chess, np.int32([pts]), color[j%2])\n",
    "        else:\n",
    "            chess = cv2.fillPoly(chess, np.int32([pts]), color_reversed[j%2])\n",
    "\n",
    "plt.imshow(chess)\n",
    "plt.show()\n",
    "cv2.imwrite(\"16x6B.bmp\", chess)\n"
   ]
  },
  {
   "cell_type": "code",
   "execution_count": 80,
   "metadata": {},
   "outputs": [
    {
     "data": {
      "image/png": "[encoded data removed]",
      "text/plain": [
       "<Figure size 432x288 with 1 Axes>"
      ]
     },
     "metadata": {},
     "output_type": "display_data"
    },
    {
     "data": {
      "text/plain": [
       "True"
      ]
     },
     "execution_count": 80,
     "metadata": {},
     "output_type": "execute_result"
    }
   ],
   "source": [
    "rows = 6\n",
    "cols = 16\n",
    "\n",
    "box_width = width/cols\n",
    "box_height = height/rows\n",
    "color = [white, black]\n",
    "color_reversed = [black, white]\n",
    "\n",
    "chess = create_blank(width, height, rgb_color=white)\n",
    "\n",
    "for i in range(rows):\n",
    "    for j in range(cols):\n",
    "        pts = np.array([[(j+0)*box_width, (i+0)*box_height], [(j+1)*box_width, (i+0)*box_height], [(j+1)*box_width, (i+1)*box_height], [(j+0)*box_width, (i+1)*box_height]])\n",
    "        if i%2 == 0:\n",
    "            chess = cv2.fillPoly(chess, np.int32([pts]), color_reversed[j%2])\n",
    "        else:\n",
    "            chess = cv2.fillPoly(chess, np.int32([pts]), color[j%2])\n",
    "\n",
    "plt.imshow(chess)\n",
    "plt.show()\n",
    "cv2.imwrite(\"16x6A.bmp\", chess)\n"
   ]
  },
  {
   "cell_type": "code",
   "execution_count": 81,
   "metadata": {},
   "outputs": [
    {
     "data": {
      "image/png": "[encoded data removed]",
      "text/plain": [
       "<Figure size 432x288 with 1 Axes>"
      ]
     },
     "metadata": {},
     "output_type": "display_data"
    },
    {
     "data": {
      "text/plain": [
       "True"
      ]
     },
     "execution_count": 81,
     "metadata": {},
     "output_type": "execute_result"
    }
   ],
   "source": [
    "rows = 6\n",
    "cols = 1\n",
    "\n",
    "box_width = width/cols\n",
    "box_height = height/rows\n",
    "color = [white, black]\n",
    "color_reversed = [black, white]\n",
    "\n",
    "chess = create_blank(width, height, rgb_color=white)\n",
    "\n",
    "for i in range(rows):\n",
    "    for j in range(cols):\n",
    "        pts = np.array([[(j+0)*box_width, (i+0)*box_height], [(j+1)*box_width, (i+0)*box_height], [(j+1)*box_width, (i+1)*box_height], [(j+0)*box_width, (i+1)*box_height]])\n",
    "        if i%2 == 0:\n",
    "            chess = cv2.fillPoly(chess, np.int32([pts]), color[j%2])\n",
    "        else:\n",
    "            chess = cv2.fillPoly(chess, np.int32([pts]), color_reversed[j%2])\n",
    "\n",
    "plt.imshow(chess)\n",
    "plt.show()\n",
    "cv2.imwrite(\"1x6B.bmp\", chess)\n"
   ]
  },
  {
   "cell_type": "code",
   "execution_count": 82,
   "metadata": {},
   "outputs": [
    {
     "data": {
      "image/png": "[encoded data removed]",
      "text/plain": [
       "<Figure size 432x288 with 1 Axes>"
      ]
     },
     "metadata": {},
     "output_type": "display_data"
    },
    {
     "data": {
      "text/plain": [
       "True"
      ]
     },
     "execution_count": 82,
     "metadata": {},
     "output_type": "execute_result"
    }
   ],
   "source": [
    "rows = 6\n",
    "cols = 1\n",
    "\n",
    "box_width = width/cols\n",
    "box_height = height/rows\n",
    "color = [white, black]\n",
    "color_reversed = [black, white]\n",
    "\n",
    "chess = create_blank(width, height, rgb_color=white)\n",
    "\n",
    "for i in range(rows):\n",
    "    for j in range(cols):\n",
    "        pts = np.array([[(j+0)*box_width, (i+0)*box_height], [(j+1)*box_width, (i+0)*box_height], [(j+1)*box_width, (i+1)*box_height], [(j+0)*box_width, (i+1)*box_height]])\n",
    "        if i%2 == 0:\n",
    "            chess = cv2.fillPoly(chess, np.int32([pts]), color_reversed[j%2])\n",
    "        else:\n",
    "            chess = cv2.fillPoly(chess, np.int32([pts]), color[j%2])\n",
    "\n",
    "plt.imshow(chess)\n",
    "plt.show()\n",
    "cv2.imwrite(\"1x6A.bmp\", chess)\n"
   ]
  },
  {
   "cell_type": "code",
   "execution_count": 83,
   "metadata": {},
   "outputs": [
    {
     "data": {
      "image/png": "[encoded data removed]",
      "text/plain": [
       "<Figure size 432x288 with 1 Axes>"
      ]
     },
     "metadata": {},
     "output_type": "display_data"
    },
    {
     "data": {
      "text/plain": [
       "True"
      ]
     },
     "execution_count": 83,
     "metadata": {},
     "output_type": "execute_result"
    }
   ],
   "source": [
    "rows = 1\n",
    "cols = 16\n",
    "\n",
    "box_width = width/cols\n",
    "box_height = height/rows\n",
    "color = [white, black]\n",
    "color_reversed = [black, white]\n",
    "\n",
    "chess = create_blank(width, height, rgb_color=white)\n",
    "\n",
    "for i in range(rows):\n",
    "    for j in range(cols):\n",
    "        pts = np.array([[(j+0)*box_width, (i+0)*box_height], [(j+1)*box_width, (i+0)*box_height], [(j+1)*box_width, (i+1)*box_height], [(j+0)*box_width, (i+1)*box_height]])\n",
    "        if i%2 == 0:\n",
    "            chess = cv2.fillPoly(chess, np.int32([pts]), color[j%2])\n",
    "        else:\n",
    "            chess = cv2.fillPoly(chess, np.int32([pts]), color_reversed[j%2])\n",
    "\n",
    "plt.imshow(chess)\n",
    "plt.show()\n",
    "cv2.imwrite(\"16x1B.bmp\", chess)\n"
   ]
  },
  {
   "cell_type": "code",
   "execution_count": 84,
   "metadata": {},
   "outputs": [
    {
     "data": {
      "image/png": "[encoded data removed]",
      "text/plain": [
       "<Figure size 432x288 with 1 Axes>"
      ]
     },
     "metadata": {},
     "output_type": "display_data"
    },
    {
     "data": {
      "text/plain": [
       "True"
      ]
     },
     "execution_count": 84,
     "metadata": {},
     "output_type": "execute_result"
    }
   ],
   "source": [
    "rows = 1\n",
    "cols = 16\n",
    "\n",
    "box_width = width/cols\n",
    "box_height = height/rows\n",
    "color = [white, black]\n",
    "color_reversed = [black, white]\n",
    "\n",
    "chess = create_blank(width, height, rgb_color=white)\n",
    "\n",
    "for i in range(rows):\n",
    "    for j in range(cols):\n",
    "        pts = np.array([[(j+0)*box_width, (i+0)*box_height], [(j+1)*box_width, (i+0)*box_height], [(j+1)*box_width, (i+1)*box_height], [(j+0)*box_width, (i+1)*box_height]])\n",
    "        if i%2 == 0:\n",
    "            chess = cv2.fillPoly(chess, np.int32([pts]), color_reversed[j%2])\n",
    "        else:\n",
    "            chess = cv2.fillPoly(chess, np.int32([pts]), color[j%2])\n",
    "\n",
    "plt.imshow(chess)\n",
    "plt.show()\n",
    "cv2.imwrite(\"16x1A.bmp\", chess)"
   ]
  },
  {
   "cell_type": "code",
   "execution_count": 85,
   "metadata": {},
   "outputs": [
    {
     "data": {
      "image/png": "[encoded data removed]",
      "text/plain": [
       "<Figure size 432x288 with 1 Axes>"
      ]
     },
     "metadata": {},
     "output_type": "display_data"
    },
    {
     "data": {
      "text/plain": [
       "True"
      ]
     },
     "execution_count": 85,
     "metadata": {},
     "output_type": "execute_result"
    }
   ],
   "source": [
    "rows = 2\n",
    "cols = 1\n",
    "\n",
    "box_width = width/cols\n",
    "box_height = height/rows\n",
    "color = [white, black]\n",
    "color_reversed = [black, white]\n",
    "\n",
    "chess = create_blank(width, height, rgb_color=white)\n",
    "\n",
    "for i in range(rows):\n",
    "    for j in range(cols):\n",
    "        pts = np.array([[(j+0)*box_width, (i+0)*box_height], [(j+1)*box_width, (i+0)*box_height], [(j+1)*box_width, (i+1)*box_height], [(j+0)*box_width, (i+1)*box_height]])\n",
    "        if i%2 == 0:\n",
    "            chess = cv2.fillPoly(chess, np.int32([pts]), color[j%2])\n",
    "        else:\n",
    "            chess = cv2.fillPoly(chess, np.int32([pts]), color_reversed[j%2])\n",
    "\n",
    "plt.imshow(chess)\n",
    "plt.show()\n",
    "cv2.imwrite(\"1x2B.bmp\", chess)\n"
   ]
  },
  {
   "cell_type": "code",
   "execution_count": 86,
   "metadata": {},
   "outputs": [
    {
     "data": {
      "image/png": "[encoded data removed]",
      "text/plain": [
       "<Figure size 432x288 with 1 Axes>"
      ]
     },
     "metadata": {},
     "output_type": "display_data"
    },
    {
     "data": {
      "text/plain": [
       "True"
      ]
     },
     "execution_count": 86,
     "metadata": {},
     "output_type": "execute_result"
    }
   ],
   "source": [
    "rows = 2\n",
    "cols = 1\n",
    "\n",
    "box_width = width/cols\n",
    "box_height = height/rows\n",
    "color = [white, black]\n",
    "color_reversed = [black, white]\n",
    "\n",
    "chess = create_blank(width, height, rgb_color=white)\n",
    "\n",
    "for i in range(rows):\n",
    "    for j in range(cols):\n",
    "        pts = np.array([[(j+0)*box_width, (i+0)*box_height], [(j+1)*box_width, (i+0)*box_height], [(j+1)*box_width, (i+1)*box_height], [(j+0)*box_width, (i+1)*box_height]])\n",
    "        if i%2 == 0:\n",
    "            chess = cv2.fillPoly(chess, np.int32([pts]), color_reversed[j%2])\n",
    "        else:\n",
    "            chess = cv2.fillPoly(chess, np.int32([pts]), color[j%2])\n",
    "\n",
    "plt.imshow(chess)\n",
    "plt.show()\n",
    "cv2.imwrite(\"1x2A.bmp\", chess)\n"
   ]
  },
  {
   "cell_type": "code",
   "execution_count": 87,
   "metadata": {},
   "outputs": [
    {
     "data": {
      "image/png": "[encoded data removed]",
      "text/plain": [
       "<Figure size 432x288 with 1 Axes>"
      ]
     },
     "metadata": {},
     "output_type": "display_data"
    },
    {
     "data": {
      "text/plain": [
       "True"
      ]
     },
     "execution_count": 87,
     "metadata": {},
     "output_type": "execute_result"
    }
   ],
   "source": [
    "rows = 1\n",
    "cols = 2\n",
    "\n",
    "box_width = width/cols\n",
    "box_height = height/rows\n",
    "color = [white, black]\n",
    "color_reversed = [black, white]\n",
    "\n",
    "chess = create_blank(width, height, rgb_color=white)\n",
    "\n",
    "for i in range(rows):\n",
    "    for j in range(cols):\n",
    "        pts = np.array([[(j+0)*box_width, (i+0)*box_height], [(j+1)*box_width, (i+0)*box_height], [(j+1)*box_width, (i+1)*box_height], [(j+0)*box_width, (i+1)*box_height]])\n",
    "        if i%2 == 0:\n",
    "            chess = cv2.fillPoly(chess, np.int32([pts]), color[j%2])\n",
    "        else:\n",
    "            chess = cv2.fillPoly(chess, np.int32([pts]), color_reversed[j%2])\n",
    "\n",
    "plt.imshow(chess)\n",
    "plt.show()\n",
    "cv2.imwrite(\"2x1B.bmp\", chess)\n"
   ]
  },
  {
   "cell_type": "code",
   "execution_count": 88,
   "metadata": {},
   "outputs": [
    {
     "data": {
      "image/png": "[encoded data removed]",
      "text/plain": [
       "<Figure size 432x288 with 1 Axes>"
      ]
     },
     "metadata": {},
     "output_type": "display_data"
    },
    {
     "data": {
      "text/plain": [
       "True"
      ]
     },
     "execution_count": 88,
     "metadata": {},
     "output_type": "execute_result"
    }
   ],
   "source": [
    "rows = 1\n",
    "cols = 2\n",
    "\n",
    "box_width = width/cols\n",
    "box_height = height/rows\n",
    "color = [white, black]\n",
    "color_reversed = [black, white]\n",
    "\n",
    "chess = create_blank(width, height, rgb_color=white)\n",
    "\n",
    "for i in range(rows):\n",
    "    for j in range(cols):\n",
    "        pts = np.array([[(j+0)*box_width, (i+0)*box_height], [(j+1)*box_width, (i+0)*box_height], [(j+1)*box_width, (i+1)*box_height], [(j+0)*box_width, (i+1)*box_height]])\n",
    "        if i%2 == 0:\n",
    "            chess = cv2.fillPoly(chess, np.int32([pts]), color_reversed[j%2])\n",
    "        else:\n",
    "            chess = cv2.fillPoly(chess, np.int32([pts]), color[j%2])\n",
    "\n",
    "plt.imshow(chess)\n",
    "plt.show()\n",
    "cv2.imwrite(\"2x1A.bmp\", chess)"
   ]
  },
  {
   "cell_type": "code",
   "execution_count": 89,
   "metadata": {},
   "outputs": [
    {
     "data": {
      "text/plain": [
       "0"
      ]
     },
     "execution_count": 89,
     "metadata": {},
     "output_type": "execute_result"
    }
   ],
   "source": [
    "# test videos\n",
    "# https://trac.ffmpeg.org/wiki/Slideshow\n",
    "\n",
    "os.system(\"ffmpeg -framerate 1/2 -pattern_type glob -i '*.bmp' -r 60 test.mp4\")\n"
   ]
  },
  {
   "cell_type": "code",
   "execution_count": 90,
   "metadata": {},
   "outputs": [
    {
     "data": {
      "text/plain": [
       "256"
      ]
     },
     "execution_count": 90,
     "metadata": {},
     "output_type": "execute_result"
    }
   ],
   "source": [
    "# Stress test videos\n",
    "\n",
    "os.system(\"ffmpeg -loop 1 -i stress.bmp -t 60 stress.mp4\")"
   ]
  },
  {
   "cell_type": "code",
   "execution_count": 58,
   "metadata": {},
   "outputs": [],
   "source": [
    "# Did NOT work\n",
    "# create a video using opencv\n",
    "# https://www.learnopencv.com/read-write-and-display-a-video-using-opencv-cpp-python/\n",
    "\n",
    "img1 = cv2.imread('crosstalk.bmp')\n",
    "img2 = cv2.imread('crosstalk_black.bmp')\n",
    "img3 = cv2.imread('flicker.bmp')\n",
    "img4 = cv2.imread('grayscale.bmp')\n",
    "\n",
    "height, width, layers = img1.shape\n",
    "\n",
    "video = cv2.VideoWriter('test.avi', -1, 1, (width, height))\n",
    "video.write(img1)\n",
    "video.write(img2)\n",
    "video.write(img3)\n",
    "video.write(img4)\n",
    "\n",
    "# cv2.destroyAllWindows()\n",
    "video.release()"
   ]
  },
  {
   "cell_type": "code",
   "execution_count": 12,
   "metadata": {},
   "outputs": [],
   "source": [
    "# https://docs.opencv.org/2.4/modules/highgui/doc/user_interface.html#imshow\n",
    "\n",
    "\n",
    "name = \"48\\'\\' SED Visual Inspection\"\n",
    "cv2.namedWindow(name)\n",
    "cv2.imshow(name, solid_blue) \n",
    "cv2.waitKey(10)\n",
    "cv2.destroyAllWindows()"
   ]
  },
  {
   "cell_type": "code",
   "execution_count": null,
   "metadata": {},
   "outputs": [],
   "source": []
  }
 ],
 "metadata": {
  "kernelspec": {
   "display_name": "Python 3",
   "language": "python",
   "name": "python3"
  },
  "language_info": {
   "codemirror_mode": {
    "name": "ipython",
    "version": 3
   },
   "file_extension": ".py",
   "mimetype": "text/x-python",
   "name": "python",
   "nbconvert_exporter": "python",
   "pygments_lexer": "ipython3",
   "version": "3.6.4"
  }
 },
 "nbformat": 4,
 "nbformat_minor": 2
}
